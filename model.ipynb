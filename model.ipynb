{
 "cells": [
  {
   "cell_type": "markdown",
   "id": "fd155408",
   "metadata": {},
   "source": [
    "# <center> Deep Learning Project: Bankruptcy Prediction Model"
   ]
  },
  {
   "cell_type": "markdown",
   "id": "a954f1cd",
   "metadata": {},
   "source": [
    "## Author\n",
    "> - __Omar Jarir__ (m20201378)  "
   ]
  },
  {
   "cell_type": "markdown",
   "id": "011bfc00",
   "metadata": {},
   "source": [
    "***"
   ]
  },
  {
   "cell_type": "markdown",
   "id": "680a8114",
   "metadata": {},
   "source": [
    "## Objective\n",
    "The objective of this notebook is to build the best model to predict if a company is going to default using deep learning models. We will explore hyper parameter tuning, down-sampling and over-sampling.\n"
   ]
  },
  {
   "cell_type": "markdown",
   "id": "ae4e6267",
   "metadata": {},
   "source": [
    "## Install Packages"
   ]
  },
  {
   "cell_type": "markdown",
   "id": "449d3069",
   "metadata": {},
   "source": [
    "__Uncomment this cell if you don't have this packages__"
   ]
  },
  {
   "cell_type": "code",
   "execution_count": 1,
   "id": "31fcad8c",
   "metadata": {
    "scrolled": true
   },
   "outputs": [],
   "source": [
    "# !pip install keras-tuner --upgrade\n",
    "# !pip install -q -U keras-tuner\n",
    "# !pip install findspark\n",
    "# !pip install tensorflow-addons\n",
    "# !pip install shap"
   ]
  },
  {
   "cell_type": "code",
   "execution_count": 2,
   "id": "0f3facbb",
   "metadata": {
    "scrolled": true
   },
   "outputs": [],
   "source": [
    "import time\n",
    "t1 = time.perf_counter()"
   ]
  },
  {
   "cell_type": "markdown",
   "id": "70d3f3c4",
   "metadata": {},
   "source": [
    "__Importing the necessary libraries 📚:__"
   ]
  },
  {
   "cell_type": "code",
   "execution_count": 3,
   "id": "d8c7afd4",
   "metadata": {
    "scrolled": true
   },
   "outputs": [],
   "source": [
    "import numpy as np\n",
    "import random as python_random\n",
    "import pandas as pd\n",
    "import matplotlib.pyplot as plt\n",
    "import seaborn as sns\n",
    "\n",
    "import tensorflow as tf\n",
    "from tensorflow import keras \n",
    "import keras_tuner as kt\n",
    "import keras.backend as K\n",
    "\n",
    "from imblearn.over_sampling import SMOTE\n",
    "from imblearn.under_sampling import NearMiss\n",
    "\n",
    "from keras.models import Sequential\n",
    "from keras import layers\n",
    "from keras.callbacks import EarlyStopping, ModelCheckpoint, ReduceLROnPlateau \n",
    "\n",
    "from sklearn.ensemble import IsolationForest\n",
    "from sklearn.model_selection import train_test_split, StratifiedKFold\n",
    "from sklearn.feature_selection import mutual_info_classif, f_classif \n",
    "from sklearn.utils import class_weight\n",
    "\n",
    "from sklearn.preprocessing import OneHotEncoder, StandardScaler\n",
    "from sklearn import metrics\n",
    "from sklearn.metrics import classification_report, roc_curve, auc\n",
    "\n",
    "import shap\n",
    "\n",
    "from operator import add\n",
    "import IPython\n"
   ]
  },
  {
   "cell_type": "code",
   "execution_count": 4,
   "id": "7c52987b",
   "metadata": {
    "scrolled": true
   },
   "outputs": [],
   "source": [
    "import warnings\n",
    "warnings.filterwarnings(\"ignore\")"
   ]
  },
  {
   "cell_type": "code",
   "execution_count": 5,
   "id": "8b710363",
   "metadata": {
    "scrolled": true
   },
   "outputs": [],
   "source": [
    "SEED = 2022\n",
    "FIGSIZE = (10, 10)\n",
    "N_EPOCHS = 100"
   ]
  },
  {
   "cell_type": "markdown",
   "id": "bb6defba",
   "metadata": {},
   "source": [
    "Fixing the random number seed to ensure that the results are reproducible."
   ]
  },
  {
   "cell_type": "code",
   "execution_count": 6,
   "id": "195b17cb",
   "metadata": {
    "scrolled": true
   },
   "outputs": [],
   "source": [
    "session = K.get_session()\n",
    "\n",
    "np.random.seed(SEED)\n",
    "tf.random.set_seed(SEED)\n",
    "python_random.seed(SEED)"
   ]
  },
  {
   "cell_type": "markdown",
   "id": "87c1d56c",
   "metadata": {},
   "source": [
    "## Helper Functions"
   ]
  },
  {
   "cell_type": "code",
   "execution_count": 7,
   "id": "b37a0c45",
   "metadata": {
    "scrolled": true
   },
   "outputs": [],
   "source": [
    "# Function to create dataframe with metrics\n",
    "def performanceMetricsDF(metricsObj, yTrain, yPredTrain, yTest, yPredTest):\n",
    "    measures_list = ['ACCURACY','PRECISION', 'RECALL','F1 SCORE','AUC']\n",
    "    train_results = [metricsObj.accuracy_score(yTrain, yPredTrain),\n",
    "                metricsObj.precision_score(yTrain, yPredTrain, average='macro'),\n",
    "                metricsObj.recall_score(yTrain, yPredTrain, average='macro'),\n",
    "                metricsObj.f1_score(yTrain, yPredTrain, average='macro'),\n",
    "                metricsObj.roc_auc_score(yTrain, yPredTrain, average='macro'),    \n",
    "                ]\n",
    "    test_results = [metricsObj.accuracy_score(yTest, yPredTest),\n",
    "               metricsObj.precision_score(yTest, yPredTest, average='macro'),\n",
    "               metricsObj.recall_score(yTest, yPredTest, average='macro'),\n",
    "               metricsObj.f1_score(yTest, yPredTest, average='macro'),\n",
    "               metricsObj.roc_auc_score(yTest, yPredTest, average='macro'), \n",
    "               ]\n",
    "    resultsDF = pd.DataFrame({'Train': train_results, 'Test':test_results}, index=measures_list)\n",
    "    return resultsDF"
   ]
  },
  {
   "cell_type": "code",
   "execution_count": 8,
   "id": "6221a8c1",
   "metadata": {
    "scrolled": true
   },
   "outputs": [],
   "source": [
    "# Function to plot confusion matrix - Adapted from https://github.com/DTrimarchi10/confusion_matrix/blob/master/cf_matrix.py\n",
    "def make_confusion_matrix(cf,\n",
    "                          group_names=None,\n",
    "                          categories='auto',\n",
    "                          count=True,\n",
    "                          percent=True,\n",
    "                          cbar=True,\n",
    "                          xyticks=True,\n",
    "                          xyplotlabels=True,\n",
    "                          sum_stats=True,\n",
    "                          figsize=None,\n",
    "                          cmap='Blues',\n",
    "                          title=None):\n",
    "    '''\n",
    "    This function will make a pretty plot of an sklearn Confusion Matrix cm using a Seaborn heatmap visualization.\n",
    "    Arguments\n",
    "    ---------\n",
    "    cf:            confusion matrix to be passed in\n",
    "    group_names:   List of strings that represent the labels row by row to be shown in each square.\n",
    "    categories:    List of strings containing the categories to be displayed on the x,y axis. Default is 'auto'\n",
    "    count:         If True, show the raw number in the confusion matrix. Default is True.\n",
    "    normalize:     If True, show the proportions for each category. Default is True.\n",
    "    cbar:          If True, show the color bar. The cbar values are based off the values in the confusion matrix.\n",
    "                   Default is True.\n",
    "    xyticks:       If True, show x and y ticks. Default is True.\n",
    "    xyplotlabels:  If True, show 'True Label' and 'Predicted Label' on the figure. Default is True.\n",
    "    sum_stats:     If True, display summary statistics below the figure. Default is True.\n",
    "    figsize:       Tuple representing the figure size. Default will be the matplotlib rcParams value.\n",
    "    cmap:          Colormap of the values displayed from matplotlib.pyplot.cm. Default is 'Blues'\n",
    "                   See http://matplotlib.org/examples/color/colormaps_reference.html\n",
    "                   \n",
    "    title:         Title for the heatmap. Default is None.\n",
    "    '''\n",
    "\n",
    "\n",
    "    # CODE TO GENERATE TEXT INSIDE EACH SQUARE\n",
    "    blanks = ['' for i in range(cf.size)]\n",
    "\n",
    "    if group_names and len(group_names)==cf.size:\n",
    "        group_labels = [\"{}\\n\".format(value) for value in group_names]\n",
    "    else:\n",
    "        group_labels = blanks\n",
    "\n",
    "    if count:\n",
    "        group_counts = [\"{0:0.0f}\\n\".format(value) for value in cf.flatten()]\n",
    "    else:\n",
    "        group_counts = blanks\n",
    "\n",
    "    if percent:\n",
    "        group_percentages = [\"{0:.2%}\".format(value) for value in cf.flatten()/np.sum(cf)]\n",
    "    else:\n",
    "        group_percentages = blanks\n",
    "\n",
    "    box_labels = [f\"{v1}{v2}{v3}\".strip() for v1, v2, v3 in zip(group_labels,group_counts,group_percentages)]\n",
    "    box_labels = np.asarray(box_labels).reshape(cf.shape[0],cf.shape[1])\n",
    "\n",
    "\n",
    "    # CODE TO GENERATE SUMMARY STATISTICS & TEXT FOR SUMMARY STATS\n",
    "    if sum_stats:\n",
    "        #Accuracy is sum of diagonal divided by total observations\n",
    "        accuracy  = np.trace(cf) / float(np.sum(cf))\n",
    "\n",
    "        #if it is a binary confusion matrix, show some more stats\n",
    "        if len(cf)==2:\n",
    "            #Metrics for Binary Confusion Matrices\n",
    "            precision = cf[1,1] / sum(cf[:,1])\n",
    "            recall    = cf[1,1] / sum(cf[1,:])\n",
    "            f1_score  = 2*precision*recall / (precision + recall)\n",
    "            stats_text = \"\\n\\nAccuracy={:0.3f}\\nPrecision={:0.3f}\\nRecall={:0.3f}\\nF1 Score={:0.3f}\".format(\n",
    "                accuracy,precision,recall,f1_score)\n",
    "        else:\n",
    "            stats_text = \"\\n\\nAccuracy={:0.3f}\".format(accuracy)\n",
    "    else:\n",
    "        stats_text = \"\"\n",
    "\n",
    "\n",
    "    # SET FIGURE PARAMETERS ACCORDING TO OTHER ARGUMENTS\n",
    "    if figsize==None:\n",
    "        #Get default figure size if not set\n",
    "        figsize = plt.rcParams.get('figure.figsize')\n",
    "\n",
    "    if xyticks==False:\n",
    "        #Do not show categories if xyticks is False\n",
    "        categories=False\n",
    "\n",
    "\n",
    "    # MAKE THE HEATMAP VISUALIZATION\n",
    "    plt.figure(figsize=figsize)\n",
    "    ax = sns.heatmap(cf,annot=box_labels, fmt=\"\",cmap=cmap,cbar=cbar,xticklabels=categories,yticklabels=categories)\n",
    "\n",
    "    if xyplotlabels:\n",
    "        plt.ylabel('True label')\n",
    "        plt.xlabel('Predicted label' + stats_text)\n",
    "    else:\n",
    "        plt.xlabel(stats_text)\n",
    "    \n",
    "    if title:\n",
    "        plt.title(title)"
   ]
  },
  {
   "cell_type": "code",
   "execution_count": 9,
   "id": "9d09be78",
   "metadata": {
    "scrolled": true
   },
   "outputs": [],
   "source": [
    "# Function to find outliers on columns based on percentile\n",
    "def removeOutliers(df, colList, lowPercentile=0.05, highPercentile=0.95, verbose=False):\n",
    "    quant_df = df[colList].quantile([lowPercentile, highPercentile])\n",
    "    if verbose:\n",
    "        print(quant_df)\n",
    "    for name in list(df[colList].columns):\n",
    "        df = df[(df[name] >= quant_df.loc[lowPercentile, name]) & (df[name] <= quant_df.loc[highPercentile, name])]\n",
    "    return df"
   ]
  },
  {
   "cell_type": "code",
   "execution_count": 10,
   "id": "71a200cc",
   "metadata": {},
   "outputs": [],
   "source": [
    "def MutualInfoScores(X, y):    \n",
    "    mi = pd.Series(mutual_info_classif(X, y))\n",
    "    mi /= mi.max()\n",
    "    mi.index = X.columns\n",
    "    mi = mi.sort_values(ascending=False)\n",
    "    mi.plot.bar(figsize=(20, 6))\n",
    "    plt.title(\"Feature univariate score\")\n",
    "    plt.ylabel('Mutual Information')\n",
    "    plt.show();\n",
    "    return mi"
   ]
  },
  {
   "cell_type": "code",
   "execution_count": 11,
   "id": "f278bab8",
   "metadata": {},
   "outputs": [],
   "source": [
    "def FTestScores(X, y):\n",
    "    f_scores = pd.Series(-np.log10(f_classif(X, y)[1]))\n",
    "    f_scores /= f_scores.max()\n",
    "    f_scores.index = X.columns\n",
    "    f_scores = f_scores.sort_values(ascending=False)\n",
    "    f_scores.plot.bar(figsize=(20,6))\n",
    "    plt.title(\"Feature univariate score\")\n",
    "    plt.ylabel(r\"Univariate score ($-Log(p_{value})$)\")\n",
    "    plt.show()\n",
    "    return f_scores"
   ]
  },
  {
   "cell_type": "code",
   "execution_count": 12,
   "id": "1ced9f18",
   "metadata": {},
   "outputs": [],
   "source": [
    "def precision(y_true, y_pred):\n",
    "    y_pred = K.round(y_pred)\n",
    "    tp = K.sum(K.cast(y_true*y_pred, 'float'), axis=0)\n",
    "    fp = K.sum(K.cast((1-y_true)*y_pred, 'float'), axis=0)\n",
    "    p = tp / (tp + fp + K.epsilon())\n",
    "    return p\n",
    "\n",
    "def recall(y_true, y_pred):\n",
    "    y_pred = K.round(y_pred)\n",
    "    tp = K.sum(K.cast(y_true*y_pred, 'float'), axis=0)\n",
    "    fn = K.sum(K.cast(y_true*(1-y_pred), 'float'), axis=0)\n",
    "    r = tp / (tp + fn + K.epsilon())\n",
    "    return r\n",
    "\n",
    "def f1(y_true, y_pred):\n",
    "    y_pred = K.round(y_pred)\n",
    "    tp = K.sum(K.cast(y_true*y_pred, 'float'), axis=0)\n",
    "    fp = K.sum(K.cast((1-y_true)*y_pred, 'float'), axis=0)\n",
    "    fn = K.sum(K.cast(y_true*(1-y_pred), 'float'), axis=0)\n",
    "\n",
    "    p = tp / (tp + fp + K.epsilon())\n",
    "    r = tp / (tp + fn + K.epsilon())\n",
    "\n",
    "    f1 = 2*p*r / (p+r+K.epsilon())\n",
    "    f1 = tf.where(tf.math.is_nan(f1), tf.zeros_like(f1), f1)\n",
    "    return K.mean(f1)"
   ]
  },
  {
   "cell_type": "code",
   "execution_count": 13,
   "id": "c207ed72",
   "metadata": {},
   "outputs": [],
   "source": [
    "def remove_correlated(X, threshold=0.9):\n",
    "    corr = np.absolute(X.corr())\n",
    "    i = 1\n",
    "    for (index, row) in corr.iterrows():\n",
    "        for col in corr.columns[i:]:\n",
    "            if row[col] > 0.9:\n",
    "                print(f\"{index} vs. {col} are highly correlated {row[col]}\")\n",
    "        i += 1\n",
    "        # Select upper triangle of correlation matrix\n",
    "    corr_matrix = corr.where(np.triu(np.ones(corr.shape), k=1).astype(np.bool))\n",
    "    # Find features with correlation greater than threshold\n",
    "    correlated_cols = [c for c in corr_matrix.columns if any(corr_matrix[c] > threshold)]\n",
    "    # Drop correlated columns\n",
    "    return correlated_cols"
   ]
  },
  {
   "cell_type": "code",
   "execution_count": 14,
   "id": "61142dcc",
   "metadata": {},
   "outputs": [],
   "source": [
    "def remove_outliers(x_train, x_test, y_train, y_test, cols, estimators=100):\n",
    "    ''' \n",
    "    Uses an isolation forest in order to detect and remove outliers.\n",
    "    '''\n",
    "    isolation_forest = IsolationForest(n_estimators=estimators, random_state=SEED)\n",
    "    \n",
    "    #identify outliers:\n",
    "    y_train_pred = isolation_forest.fit_predict(x_train[cols])\n",
    "    y_test_pred = isolation_forest.predict(x_test[cols])\n",
    "\n",
    "    #Remove outliers where 1 represent inliers and -1 represent outliers:\n",
    "    x_train = x_train[np.where(y_train_pred == 1, True, False)]\n",
    "    x_test = x_test[np.where(y_test_pred == 1, True, False)]\n",
    "\n",
    "    y_train = y_train[np.where(y_train_pred == 1, True, False)]\n",
    "    y_test = y_test[np.where(y_test_pred == 1, True, False)] \n",
    "    \n",
    "    return x_train, x_test, y_train, y_test"
   ]
  },
  {
   "cell_type": "code",
   "execution_count": 15,
   "id": "4d2f33f6",
   "metadata": {},
   "outputs": [],
   "source": [
    "# This function plot the \"loss\" and the \"val_loss\" variables.\n",
    "def visualize_history(history, metrics, title):\n",
    "    \"\"\"\n",
    "    history: history of the model.\n",
    "    metrics: the metrics in history to plot.\n",
    "    title: Title of the plot.\n",
    "    \"\"\"\n",
    "    loss = history.history[metrics]\n",
    "    val_loss = history.history[f\"val_{metrics}\"]\n",
    "    epochs = range(1, len(loss)+1)\n",
    "    plt.plot(epochs, loss, \"g\", label=f\"Training {metrics}\", figsize=FIGSIZE)\n",
    "    plt.plot(epochs, val_loss, \"b\", label=f\"Validation {metrics}\", figsize=FIGSIZE)\n",
    "    plt.title(title)\n",
    "    plt.xlabel(\"Epochs\")\n",
    "    plt.ylabel(metrics)\n",
    "    plt.legend(loc=\"best\")\n",
    "    plt.tight_layout()\n",
    "    plt.show();"
   ]
  },
  {
   "cell_type": "code",
   "execution_count": 16,
   "id": "14630a8f",
   "metadata": {},
   "outputs": [],
   "source": [
    "def auc_plot(y_test, y_pred_test_proba):\n",
    "    fpr, tpr, _ = roc_curve(y_test, y_pred_test_proba)\n",
    "    auc_keras = auc(fpr, tpr)\n",
    "    plt.plot([0, 1], [0, 1], 'k--')\n",
    "    plt.plot(fpr, tpr, label='AUC (area = {:.3f})'.format(auc_keras), color=\"g\")\n",
    "    plt.grid(axis='both', linestyle='--', color=\"#add8e6\")\n",
    "    plt.xlabel('False positive rate')\n",
    "    plt.ylabel('True positive rate')\n",
    "    plt.title('ROC curve')\n",
    "    plt.legend(loc='best')\n",
    "    plt.show();"
   ]
  },
  {
   "cell_type": "code",
   "execution_count": 17,
   "id": "31aa836a",
   "metadata": {},
   "outputs": [],
   "source": [
    "def oversample(ratio, x_train, y_train):\n",
    "    sm = SMOTE(random_state=SEED, sampling_strategy=ratio)\n",
    "    return sm.fit_resample(x_train, y_train)\n",
    "    \n",
    "def undersample(ratio, x_train, y_train, version):\n",
    "    sm = NearMiss(version=version, sampling_strategy=ratio)\n",
    "    return sm.fit_resample(x_train, y_train)"
   ]
  },
  {
   "cell_type": "markdown",
   "id": "25c87322",
   "metadata": {},
   "source": [
    "## Loading the dataset\n",
    "The dataset is from \n",
    "    - https://www.kaggle.com/datasets/blastchar/telco-customer-churn."
   ]
  },
  {
   "cell_type": "code",
   "execution_count": 18,
   "id": "d04c93f9",
   "metadata": {
    "scrolled": true
   },
   "outputs": [
    {
     "data": {
      "text/html": [
       "<div>\n",
       "<style scoped>\n",
       "    .dataframe tbody tr th:only-of-type {\n",
       "        vertical-align: middle;\n",
       "    }\n",
       "\n",
       "    .dataframe tbody tr th {\n",
       "        vertical-align: top;\n",
       "    }\n",
       "\n",
       "    .dataframe thead th {\n",
       "        text-align: right;\n",
       "    }\n",
       "</style>\n",
       "<table border=\"1\" class=\"dataframe\">\n",
       "  <thead>\n",
       "    <tr style=\"text-align: right;\">\n",
       "      <th></th>\n",
       "      <th>customerID</th>\n",
       "      <th>gender</th>\n",
       "      <th>SeniorCitizen</th>\n",
       "      <th>Partner</th>\n",
       "      <th>Dependents</th>\n",
       "      <th>tenure</th>\n",
       "      <th>PhoneService</th>\n",
       "      <th>MultipleLines</th>\n",
       "      <th>InternetService</th>\n",
       "      <th>OnlineSecurity</th>\n",
       "      <th>...</th>\n",
       "      <th>DeviceProtection</th>\n",
       "      <th>TechSupport</th>\n",
       "      <th>StreamingTV</th>\n",
       "      <th>StreamingMovies</th>\n",
       "      <th>Contract</th>\n",
       "      <th>PaperlessBilling</th>\n",
       "      <th>PaymentMethod</th>\n",
       "      <th>MonthlyCharges</th>\n",
       "      <th>TotalCharges</th>\n",
       "      <th>Churn</th>\n",
       "    </tr>\n",
       "  </thead>\n",
       "  <tbody>\n",
       "    <tr>\n",
       "      <th>0</th>\n",
       "      <td>7590-VHVEG</td>\n",
       "      <td>Female</td>\n",
       "      <td>0</td>\n",
       "      <td>Yes</td>\n",
       "      <td>No</td>\n",
       "      <td>1</td>\n",
       "      <td>No</td>\n",
       "      <td>No phone service</td>\n",
       "      <td>DSL</td>\n",
       "      <td>No</td>\n",
       "      <td>...</td>\n",
       "      <td>No</td>\n",
       "      <td>No</td>\n",
       "      <td>No</td>\n",
       "      <td>No</td>\n",
       "      <td>Month-to-month</td>\n",
       "      <td>Yes</td>\n",
       "      <td>Electronic check</td>\n",
       "      <td>29.85</td>\n",
       "      <td>29.85</td>\n",
       "      <td>No</td>\n",
       "    </tr>\n",
       "    <tr>\n",
       "      <th>1</th>\n",
       "      <td>5575-GNVDE</td>\n",
       "      <td>Male</td>\n",
       "      <td>0</td>\n",
       "      <td>No</td>\n",
       "      <td>No</td>\n",
       "      <td>34</td>\n",
       "      <td>Yes</td>\n",
       "      <td>No</td>\n",
       "      <td>DSL</td>\n",
       "      <td>Yes</td>\n",
       "      <td>...</td>\n",
       "      <td>Yes</td>\n",
       "      <td>No</td>\n",
       "      <td>No</td>\n",
       "      <td>No</td>\n",
       "      <td>One year</td>\n",
       "      <td>No</td>\n",
       "      <td>Mailed check</td>\n",
       "      <td>56.95</td>\n",
       "      <td>1889.5</td>\n",
       "      <td>No</td>\n",
       "    </tr>\n",
       "    <tr>\n",
       "      <th>2</th>\n",
       "      <td>3668-QPYBK</td>\n",
       "      <td>Male</td>\n",
       "      <td>0</td>\n",
       "      <td>No</td>\n",
       "      <td>No</td>\n",
       "      <td>2</td>\n",
       "      <td>Yes</td>\n",
       "      <td>No</td>\n",
       "      <td>DSL</td>\n",
       "      <td>Yes</td>\n",
       "      <td>...</td>\n",
       "      <td>No</td>\n",
       "      <td>No</td>\n",
       "      <td>No</td>\n",
       "      <td>No</td>\n",
       "      <td>Month-to-month</td>\n",
       "      <td>Yes</td>\n",
       "      <td>Mailed check</td>\n",
       "      <td>53.85</td>\n",
       "      <td>108.15</td>\n",
       "      <td>Yes</td>\n",
       "    </tr>\n",
       "    <tr>\n",
       "      <th>3</th>\n",
       "      <td>7795-CFOCW</td>\n",
       "      <td>Male</td>\n",
       "      <td>0</td>\n",
       "      <td>No</td>\n",
       "      <td>No</td>\n",
       "      <td>45</td>\n",
       "      <td>No</td>\n",
       "      <td>No phone service</td>\n",
       "      <td>DSL</td>\n",
       "      <td>Yes</td>\n",
       "      <td>...</td>\n",
       "      <td>Yes</td>\n",
       "      <td>Yes</td>\n",
       "      <td>No</td>\n",
       "      <td>No</td>\n",
       "      <td>One year</td>\n",
       "      <td>No</td>\n",
       "      <td>Bank transfer (automatic)</td>\n",
       "      <td>42.30</td>\n",
       "      <td>1840.75</td>\n",
       "      <td>No</td>\n",
       "    </tr>\n",
       "    <tr>\n",
       "      <th>4</th>\n",
       "      <td>9237-HQITU</td>\n",
       "      <td>Female</td>\n",
       "      <td>0</td>\n",
       "      <td>No</td>\n",
       "      <td>No</td>\n",
       "      <td>2</td>\n",
       "      <td>Yes</td>\n",
       "      <td>No</td>\n",
       "      <td>Fiber optic</td>\n",
       "      <td>No</td>\n",
       "      <td>...</td>\n",
       "      <td>No</td>\n",
       "      <td>No</td>\n",
       "      <td>No</td>\n",
       "      <td>No</td>\n",
       "      <td>Month-to-month</td>\n",
       "      <td>Yes</td>\n",
       "      <td>Electronic check</td>\n",
       "      <td>70.70</td>\n",
       "      <td>151.65</td>\n",
       "      <td>Yes</td>\n",
       "    </tr>\n",
       "  </tbody>\n",
       "</table>\n",
       "<p>5 rows × 21 columns</p>\n",
       "</div>"
      ],
      "text/plain": [
       "   customerID  gender  SeniorCitizen Partner Dependents  tenure PhoneService  \\\n",
       "0  7590-VHVEG  Female              0     Yes         No       1           No   \n",
       "1  5575-GNVDE    Male              0      No         No      34          Yes   \n",
       "2  3668-QPYBK    Male              0      No         No       2          Yes   \n",
       "3  7795-CFOCW    Male              0      No         No      45           No   \n",
       "4  9237-HQITU  Female              0      No         No       2          Yes   \n",
       "\n",
       "      MultipleLines InternetService OnlineSecurity  ... DeviceProtection  \\\n",
       "0  No phone service             DSL             No  ...               No   \n",
       "1                No             DSL            Yes  ...              Yes   \n",
       "2                No             DSL            Yes  ...               No   \n",
       "3  No phone service             DSL            Yes  ...              Yes   \n",
       "4                No     Fiber optic             No  ...               No   \n",
       "\n",
       "  TechSupport StreamingTV StreamingMovies        Contract PaperlessBilling  \\\n",
       "0          No          No              No  Month-to-month              Yes   \n",
       "1          No          No              No        One year               No   \n",
       "2          No          No              No  Month-to-month              Yes   \n",
       "3         Yes          No              No        One year               No   \n",
       "4          No          No              No  Month-to-month              Yes   \n",
       "\n",
       "               PaymentMethod MonthlyCharges  TotalCharges Churn  \n",
       "0           Electronic check          29.85         29.85    No  \n",
       "1               Mailed check          56.95        1889.5    No  \n",
       "2               Mailed check          53.85        108.15   Yes  \n",
       "3  Bank transfer (automatic)          42.30       1840.75    No  \n",
       "4           Electronic check          70.70        151.65   Yes  \n",
       "\n",
       "[5 rows x 21 columns]"
      ]
     },
     "execution_count": 18,
     "metadata": {},
     "output_type": "execute_result"
    }
   ],
   "source": [
    "ds= pd.read_csv(\"WA_Fn-UseC_-Telco-Customer-Churn.csv\")\n",
    "ds.head()"
   ]
  },
  {
   "cell_type": "code",
   "execution_count": 19,
   "id": "63537575",
   "metadata": {
    "scrolled": true
   },
   "outputs": [
    {
     "data": {
      "text/plain": [
       "(7043, 21)"
      ]
     },
     "execution_count": 19,
     "metadata": {},
     "output_type": "execute_result"
    }
   ],
   "source": [
    "# Checking the shape of the dataset:\n",
    "ds.shape"
   ]
  },
  {
   "cell_type": "markdown",
   "id": "b4a521be",
   "metadata": {},
   "source": [
    "### Checking for missing values\n"
   ]
  },
  {
   "cell_type": "code",
   "execution_count": 20,
   "id": "9bfaa62f",
   "metadata": {},
   "outputs": [],
   "source": [
    "ds['TotalCharges'] = pd.to_numeric(ds['TotalCharges'], errors='coerce')"
   ]
  },
  {
   "cell_type": "code",
   "execution_count": 21,
   "id": "e6f038e8",
   "metadata": {},
   "outputs": [
    {
     "data": {
      "text/plain": [
       "customerID           0\n",
       "gender               0\n",
       "SeniorCitizen        0\n",
       "Partner              0\n",
       "Dependents           0\n",
       "tenure               0\n",
       "PhoneService         0\n",
       "MultipleLines        0\n",
       "InternetService      0\n",
       "OnlineSecurity       0\n",
       "OnlineBackup         0\n",
       "DeviceProtection     0\n",
       "TechSupport          0\n",
       "StreamingTV          0\n",
       "StreamingMovies      0\n",
       "Contract             0\n",
       "PaperlessBilling     0\n",
       "PaymentMethod        0\n",
       "MonthlyCharges       0\n",
       "TotalCharges        11\n",
       "Churn                0\n",
       "dtype: int64"
      ]
     },
     "execution_count": 21,
     "metadata": {},
     "output_type": "execute_result"
    }
   ],
   "source": [
    "ds.isna().sum()"
   ]
  },
  {
   "cell_type": "code",
   "execution_count": 22,
   "id": "f247777a",
   "metadata": {},
   "outputs": [],
   "source": [
    "ds.dropna(inplace=True)"
   ]
  },
  {
   "cell_type": "markdown",
   "id": "6c40bc6d",
   "metadata": {},
   "source": [
    "### Check for Duplicates\n",
    "There are no duplicate rows in this dataset"
   ]
  },
  {
   "cell_type": "code",
   "execution_count": 23,
   "id": "a89c4453",
   "metadata": {},
   "outputs": [
    {
     "data": {
      "text/plain": [
       "0"
      ]
     },
     "execution_count": 23,
     "metadata": {},
     "output_type": "execute_result"
    }
   ],
   "source": [
    "ds.duplicated().sum()"
   ]
  },
  {
   "cell_type": "code",
   "execution_count": 24,
   "id": "f682057a",
   "metadata": {},
   "outputs": [],
   "source": [
    "# Droping the column 'CustomerID' since it is not useful:\n",
    "ds.drop(columns=['customerID'], inplace=True)"
   ]
  },
  {
   "cell_type": "markdown",
   "id": "de62b4e4",
   "metadata": {},
   "source": [
    "### Check Data type\n",
    "All the columns are numeric. There are 2 binary flags that are already enocoded as 0 or 1.\n",
    "- 85: Liability-Assets Flag\n",
    "- 94: Net Income Flag"
   ]
  },
  {
   "cell_type": "code",
   "execution_count": 25,
   "id": "0ba58569",
   "metadata": {},
   "outputs": [
    {
     "data": {
      "text/plain": [
       "gender               object\n",
       "SeniorCitizen         int64\n",
       "Partner              object\n",
       "Dependents           object\n",
       "tenure                int64\n",
       "PhoneService         object\n",
       "MultipleLines        object\n",
       "InternetService      object\n",
       "OnlineSecurity       object\n",
       "OnlineBackup         object\n",
       "DeviceProtection     object\n",
       "TechSupport          object\n",
       "StreamingTV          object\n",
       "StreamingMovies      object\n",
       "Contract             object\n",
       "PaperlessBilling     object\n",
       "PaymentMethod        object\n",
       "MonthlyCharges      float64\n",
       "TotalCharges        float64\n",
       "Churn                object\n",
       "dtype: object"
      ]
     },
     "execution_count": 25,
     "metadata": {},
     "output_type": "execute_result"
    }
   ],
   "source": [
    "ds.dtypes"
   ]
  },
  {
   "cell_type": "code",
   "execution_count": 26,
   "id": "56291af2",
   "metadata": {},
   "outputs": [
    {
     "data": {
      "text/plain": [
       "20.20      11\n",
       "19.75       9\n",
       "20.05       8\n",
       "19.90       8\n",
       "19.65       8\n",
       "           ..\n",
       "6849.40     1\n",
       "692.35      1\n",
       "130.15      1\n",
       "3211.90     1\n",
       "6844.50     1\n",
       "Name: TotalCharges, Length: 6530, dtype: int64"
      ]
     },
     "execution_count": 26,
     "metadata": {},
     "output_type": "execute_result"
    }
   ],
   "source": [
    "ds[\"TotalCharges\"].value_counts()"
   ]
  },
  {
   "cell_type": "code",
   "execution_count": 27,
   "id": "ef475dfc",
   "metadata": {},
   "outputs": [],
   "source": [
    "ds[\"TotalCharges\"] = ds[\"TotalCharges\"].astype(float)"
   ]
  },
  {
   "cell_type": "markdown",
   "id": "dbebfb95",
   "metadata": {},
   "source": [
    "### Check Class Distribution\n",
    "The target is dominated by class 0 - no bankruptcy"
   ]
  },
  {
   "cell_type": "code",
   "execution_count": 28,
   "id": "37900e73",
   "metadata": {},
   "outputs": [
    {
     "data": {
      "image/png": "[encoded data removed]",
      "text/plain": [
       "<Figure size 432x288 with 1 Axes>"
      ]
     },
     "metadata": {
      "needs_background": "light"
     },
     "output_type": "display_data"
    }
   ],
   "source": [
    "sns.countplot(y='Churn', data = ds, palette='viridis', orient = 'h');"
   ]
  },
  {
   "cell_type": "code",
   "execution_count": 29,
   "id": "6fcda901",
   "metadata": {},
   "outputs": [
    {
     "data": {
      "text/plain": [
       "No     0.734215\n",
       "Yes    0.265785\n",
       "Name: Churn, dtype: float64"
      ]
     },
     "execution_count": 29,
     "metadata": {},
     "output_type": "execute_result"
    }
   ],
   "source": [
    "ds[\"Churn\"].value_counts(normalize=True)"
   ]
  },
  {
   "cell_type": "markdown",
   "id": "99425c05",
   "metadata": {},
   "source": [
    "### Split Target from Predictive Variables\n",
    "- X: predictive variables\n",
    "- y: target variable"
   ]
  },
  {
   "cell_type": "code",
   "execution_count": 30,
   "id": "5a39ae33",
   "metadata": {},
   "outputs": [],
   "source": [
    "ds[\"Churn\"] = np.where(ds[\"Churn\"] == 'Yes', 1, 0)\n",
    "X = ds.copy(deep=True)\n",
    "\n",
    "y = X[\"Churn\"]\n",
    "X = X.drop(columns=[\"Churn\"])"
   ]
  },
  {
   "cell_type": "markdown",
   "id": "f870da2d",
   "metadata": {},
   "source": [
    "## Data Preparation"
   ]
  },
  {
   "cell_type": "markdown",
   "id": "52fa52fc",
   "metadata": {},
   "source": [
    "### Splitting the dataset\n",
    "We splti 30% for testing. The sampling is stratified to make sure training and testing have the same distribution of target variable."
   ]
  },
  {
   "cell_type": "code",
   "execution_count": 31,
   "id": "8e6a34dc",
   "metadata": {},
   "outputs": [],
   "source": [
    "# Split the dataset intro train and test sets.\n",
    "x_train, x_test, y_train, y_test = train_test_split(X, y, test_size = 0.2,\n",
    "                                                shuffle = True, stratify=y, random_state=SEED)"
   ]
  },
  {
   "cell_type": "markdown",
   "id": "b3cce5a3",
   "metadata": {},
   "source": [
    "### Correlation\n",
    "We remove features whose absolute correlation coefficient are greater than 0.9"
   ]
  },
  {
   "cell_type": "code",
   "execution_count": 32,
   "id": "7ee6b849",
   "metadata": {},
   "outputs": [],
   "source": [
    "correlated_cols = remove_correlated(x_train)\n",
    "x_train = x_train.drop(columns=correlated_cols)\n",
    "x_test = x_test.drop(columns=correlated_cols)"
   ]
  },
  {
   "cell_type": "markdown",
   "id": "6e8e4be6",
   "metadata": {},
   "source": [
    "### Dealing with outliers\n",
    "Random forests is efficient at detecting outliers in high-dimensional dataset https://scikit-learn.org/stable/modules/outlier_detection.html#isolation-forest. Isolation forest algorithm randomly selects a feature and splits it between the min and max. This process is repeated recuresively to partition the outliers"
   ]
  },
  {
   "cell_type": "code",
   "execution_count": 33,
   "id": "e94570b4",
   "metadata": {},
   "outputs": [
    {
     "name": "stdout",
     "output_type": "stream",
     "text": [
      "(5625, 19)\n",
      "(1407, 19)\n"
     ]
    }
   ],
   "source": [
    "print(x_train.shape)\n",
    "print(x_test.shape)"
   ]
  },
  {
   "cell_type": "code",
   "execution_count": 34,
   "id": "4a0ed84b",
   "metadata": {},
   "outputs": [],
   "source": [
    "num_features = [\"tenure\", \"MonthlyCharges\", \"TotalCharges\"]\n",
    "x_train, x_test, y_train, y_test = remove_outliers(x_train, x_test, y_train, y_test, num_features)"
   ]
  },
  {
   "cell_type": "code",
   "execution_count": 35,
   "id": "81489080",
   "metadata": {},
   "outputs": [
    {
     "name": "stdout",
     "output_type": "stream",
     "text": [
      "(2466, 19)\n",
      "(595, 19)\n"
     ]
    }
   ],
   "source": [
    "print(x_train.shape)\n",
    "print(x_test.shape)"
   ]
  },
  {
   "cell_type": "code",
   "execution_count": 36,
   "id": "9fed6fe9",
   "metadata": {},
   "outputs": [
    {
     "name": "stdout",
     "output_type": "stream",
     "text": [
      "0    0.64193\n",
      "1    0.35807\n",
      "Name: Churn, dtype: float64\n",
      "0    0.640336\n",
      "1    0.359664\n",
      "Name: Churn, dtype: float64\n"
     ]
    }
   ],
   "source": [
    "print(y_train.value_counts(normalize=True))\n",
    "print(y_test.value_counts(normalize=True))"
   ]
  },
  {
   "cell_type": "markdown",
   "id": "5abcbeda",
   "metadata": {},
   "source": [
    "### Dimension Reduction\n",
    "We compute mutual information score and ANOVA F-value. https://scikit-learn.org/stable/auto_examples/feature_selection/plot_f_test_vs_mi.html#sphx-glr-auto-examples-feature-selection-plot-f-test-vs-mi-py explains that mutual information is an entrpoy-based method that is better at measuring non-linear relationship, whereas F-test statistics are better at measuring linear relationship.\n",
    "We drop columns with low mutual information score or ANOVA F-value."
   ]
  },
  {
   "cell_type": "code",
   "execution_count": 37,
   "id": "ee08d849",
   "metadata": {},
   "outputs": [],
   "source": [
    "# mi_scores = MutualInfoScores(x_train, y_train)\n",
    "# mi_scores.loc[mi_scores > 0.2]"
   ]
  },
  {
   "cell_type": "code",
   "execution_count": 38,
   "id": "19c3cae3",
   "metadata": {},
   "outputs": [],
   "source": [
    "# mi_scores.loc[mi_scores > 0.2].index"
   ]
  },
  {
   "cell_type": "code",
   "execution_count": 39,
   "id": "badb52c2",
   "metadata": {},
   "outputs": [],
   "source": [
    "# f_scores = FTestScores(x_train, y_train)\n",
    "# f_scores.loc[f_scores > 0.1]"
   ]
  },
  {
   "cell_type": "code",
   "execution_count": 40,
   "id": "5ce876a9",
   "metadata": {},
   "outputs": [],
   "source": [
    "# high_mi_columns = mi_scores.loc[mi_scores > 0.2].index\n",
    "# high_f_score_columns = f_scores.loc[f_scores > 0.1].index\n",
    "# kept_columns = high_mi_columns.union(high_f_score_columns).values \n",
    "# x_train = x_train[kept_columns]\n",
    "# x_test = x_test[kept_columns]\n",
    "\n",
    "# print(f\"Keep {len(kept_columns)} columns\")\n",
    "# kept_columns"
   ]
  },
  {
   "cell_type": "code",
   "execution_count": 41,
   "id": "694264de",
   "metadata": {},
   "outputs": [],
   "source": [
    "# x_train = x_train[kept_columns]\n",
    "# x_test = x_test[kept_columns]"
   ]
  },
  {
   "cell_type": "markdown",
   "id": "8d89ca0b",
   "metadata": {},
   "source": [
    "### Data Normalization:\n",
    "We use the standard scaler to normalize the data"
   ]
  },
  {
   "cell_type": "code",
   "execution_count": 42,
   "id": "e1a1767a",
   "metadata": {},
   "outputs": [],
   "source": [
    "scaler = StandardScaler() \n",
    "x_train[num_features] = scaler.fit_transform(x_train[num_features]) \n",
    "x_test[num_features] = scaler.transform(x_test[num_features])"
   ]
  },
  {
   "cell_type": "markdown",
   "id": "1606a7fb",
   "metadata": {},
   "source": [
    "### Ecoding the categorical features:"
   ]
  },
  {
   "cell_type": "code",
   "execution_count": 43,
   "id": "0dfb7e1e",
   "metadata": {},
   "outputs": [],
   "source": [
    "cat_features = list(set(x_train.columns).difference(num_features).difference([\"SeniorCitizen\"]))"
   ]
  },
  {
   "cell_type": "code",
   "execution_count": 44,
   "id": "1fe21bf7",
   "metadata": {},
   "outputs": [],
   "source": [
    "# I guess it is useless, will check it later.\n",
    "for col in cat_features:\n",
    "    x_train[col] = x_train[col].astype('category')\n",
    "    x_test[col] = x_test[col].astype('category')"
   ]
  },
  {
   "cell_type": "code",
   "execution_count": 45,
   "id": "f062e5c1",
   "metadata": {},
   "outputs": [
    {
     "name": "stdout",
     "output_type": "stream",
     "text": [
      "['Yes', 'No', 'No internet service']\n",
      "Categories (3, object): ['No', 'No internet service', 'Yes']\n",
      "['Bank transfer (automatic)', 'Electronic check', 'Credit card (automatic)', 'Mailed check']\n",
      "Categories (4, object): ['Bank transfer (automatic)', 'Credit card (automatic)', 'Electronic check', 'Mailed check']\n",
      "['No', 'Yes', 'No internet service']\n",
      "Categories (3, object): ['No', 'No internet service', 'Yes']\n",
      "['Yes', 'No']\n",
      "Categories (2, object): ['No', 'Yes']\n",
      "['Yes', 'No', 'No internet service']\n",
      "Categories (3, object): ['No', 'No internet service', 'Yes']\n",
      "['No', 'Yes', 'No internet service']\n",
      "Categories (3, object): ['No', 'No internet service', 'Yes']\n",
      "['Yes', 'No', 'No phone service']\n",
      "Categories (3, object): ['No', 'No phone service', 'Yes']\n",
      "['Yes', 'No']\n",
      "Categories (2, object): ['No', 'Yes']\n",
      "['Yes', 'No', 'No internet service']\n",
      "Categories (3, object): ['No', 'No internet service', 'Yes']\n",
      "['No', 'Yes', 'No internet service']\n",
      "Categories (3, object): ['No', 'No internet service', 'Yes']\n",
      "['Female', 'Male']\n",
      "Categories (2, object): ['Female', 'Male']\n",
      "['Month-to-month', 'One year', 'Two year']\n",
      "Categories (3, object): ['Month-to-month', 'One year', 'Two year']\n",
      "['Yes', 'No']\n",
      "Categories (2, object): ['No', 'Yes']\n",
      "['Yes', 'No']\n",
      "Categories (2, object): ['No', 'Yes']\n",
      "['DSL', 'Fiber optic', 'No']\n",
      "Categories (3, object): ['DSL', 'Fiber optic', 'No']\n"
     ]
    }
   ],
   "source": [
    "for col in cat_features:\n",
    "    print(x_train[col].unique())"
   ]
  },
  {
   "cell_type": "code",
   "execution_count": 46,
   "id": "540e7072",
   "metadata": {},
   "outputs": [],
   "source": [
    "# We can perform one-hot encoding for categorical features:\n",
    "encoder = OneHotEncoder(drop=\"if_binary\", sparse=False)\n",
    "x_train_cat = encoder.fit_transform(x_train[cat_features]) \n",
    "x_test_cat = encoder.transform(x_test[cat_features])"
   ]
  },
  {
   "cell_type": "code",
   "execution_count": 47,
   "id": "402b2987",
   "metadata": {},
   "outputs": [],
   "source": [
    "x_train = np.concatenate((x_train_cat, x_train[num_features].values), axis=1)\n",
    "x_test = np.concatenate((x_test_cat, x_test[num_features].values), axis=1)"
   ]
  },
  {
   "cell_type": "markdown",
   "id": "2a0e40f7",
   "metadata": {},
   "source": [
    "## Simple Model\n",
    "First we try out a simple model to get a sense of number of hidden layers needed."
   ]
  },
  {
   "cell_type": "code",
   "execution_count": 48,
   "id": "b4bc4872",
   "metadata": {},
   "outputs": [],
   "source": [
    "def simple_model(units, loss, x_train, y_train, x_test, y_test, epochs=20, batch_size=16, cw=None):\n",
    "    '''\n",
    "    units: a list for number of units in each layer. The length of the list determines the number of hidden layers\n",
    "    loss: loss function to minimize\n",
    "    '''\n",
    "    model = Sequential()\n",
    "    for u in units:\n",
    "        model.add(layers.Dense(units=u, activation=\"relu\"))\n",
    "    \n",
    "    # Last layer should always have 1 neuron with sigmoid activation function\n",
    "    model.add(layers.Dense(units=1, activation=\"sigmoid\"))\n",
    "    model.compile(loss=loss, metrics=['accuracy'])\n",
    "    x_train, x_val, y_train, y_val = train_test_split(x_train, y_train, test_size = 0.3,\n",
    "        shuffle = True, stratify=y_train, random_state=SEED)\n",
    "    # EarlyStop = EarlyStopping(monitor='val_accuracy', patience=5, verbose=0, restore_best_weights=True)\n",
    "    # CallBacksList = [EarlyStop,]  \n",
    "    hist = model.fit(x_train, y_train, epochs=epochs,\n",
    "        batch_size=batch_size,\n",
    "        validation_data=(x_val, y_val),\n",
    "        class_weight=cw,\n",
    "        # callbacks = CallBacksList,\n",
    "        verbose=0)\n",
    "    \n",
    "    y_pred_train_proba = model.predict(x_train)\n",
    "    y_pred_test_proba = model.predict(x_test)\n",
    "    y_pred_train = (y_pred_train_proba>0.5).astype(int)\n",
    "    y_pred_test = (y_pred_test_proba>0.5).astype(int) \n",
    "    \n",
    "    cm = metrics.confusion_matrix(y_test, y_pred_test)\n",
    "    labels = ['True Neg','False Pos','False Neg','True Pos']\n",
    "    categories = ['0', '1']\n",
    "    make_confusion_matrix(cm, group_names=labels, categories=categories, cmap='Blues')\n",
    "    return y_pred_test_proba, hist.history[\"val_loss\"]"
   ]
  },
  {
   "cell_type": "code",
   "execution_count": 49,
   "id": "779ebcc9",
   "metadata": {},
   "outputs": [
    {
     "data": {
      "image/png": "[encoded data removed]",
      "text/plain": [
       "<Figure size 432x288 with 2 Axes>"
      ]
     },
     "metadata": {
      "needs_background": "light"
     },
     "output_type": "display_data"
    }
   ],
   "source": [
    "y_pred_test_proba, loss_1 = simple_model([64,32,16], tf.keras.losses.BinaryCrossentropy(),\n",
    "                                        x_train, y_train, x_test, y_test)"
   ]
  },
  {
   "cell_type": "code",
   "execution_count": 50,
   "id": "dcbd2bf0",
   "metadata": {},
   "outputs": [
    {
     "data": {
      "image/png": "[encoded data removed]",
      "text/plain": [
       "<Figure size 432x288 with 1 Axes>"
      ]
     },
     "metadata": {
      "needs_background": "light"
     },
     "output_type": "display_data"
    }
   ],
   "source": [
    "auc_plot(y_test, y_pred_test_proba)"
   ]
  },
  {
   "cell_type": "code",
   "execution_count": 51,
   "id": "399e830c",
   "metadata": {},
   "outputs": [
    {
     "data": {
      "image/png": "[encoded data removed]",
      "text/plain": [
       "<Figure size 432x288 with 2 Axes>"
      ]
     },
     "metadata": {
      "needs_background": "light"
     },
     "output_type": "display_data"
    }
   ],
   "source": [
    "y_pred_test_proba, loss_2 = simple_model([64,32], tf.keras.losses.BinaryCrossentropy(),\n",
    "                                        x_train, y_train, x_test, y_test)"
   ]
  },
  {
   "cell_type": "code",
   "execution_count": 52,
   "id": "d32bca61",
   "metadata": {},
   "outputs": [
    {
     "data": {
      "image/png": "[encoded data removed]",
      "text/plain": [
       "<Figure size 432x288 with 1 Axes>"
      ]
     },
     "metadata": {
      "needs_background": "light"
     },
     "output_type": "display_data"
    }
   ],
   "source": [
    "auc_plot(y_test, y_pred_test_proba)"
   ]
  },
  {
   "cell_type": "code",
   "execution_count": 53,
   "id": "23e935b6",
   "metadata": {},
   "outputs": [
    {
     "data": {
      "image/png": "[encoded data removed]",
      "text/plain": [
       "<Figure size 432x288 with 2 Axes>"
      ]
     },
     "metadata": {
      "needs_background": "light"
     },
     "output_type": "display_data"
    }
   ],
   "source": [
    "y_pred_test_proba, loss_3 = simple_model([64, 16], tf.keras.losses.BinaryCrossentropy(),\n",
    "                                        x_train, y_train, x_test, y_test)"
   ]
  },
  {
   "cell_type": "code",
   "execution_count": 54,
   "id": "f32b90a9",
   "metadata": {},
   "outputs": [
    {
     "data": {
      "image/png": "[encoded data removed]",
      "text/plain": [
       "<Figure size 432x288 with 1 Axes>"
      ]
     },
     "metadata": {
      "needs_background": "light"
     },
     "output_type": "display_data"
    }
   ],
   "source": [
    "auc_plot(y_test, y_pred_test_proba)"
   ]
  },
  {
   "cell_type": "code",
   "execution_count": 55,
   "id": "7b530d7e",
   "metadata": {},
   "outputs": [
    {
     "data": {
      "image/png": "[encoded data removed]",
      "text/plain": [
       "<Figure size 432x288 with 2 Axes>"
      ]
     },
     "metadata": {
      "needs_background": "light"
     },
     "output_type": "display_data"
    }
   ],
   "source": [
    "y_pred_test_proba, loss_4 = simple_model([32,16,4], tf.keras.losses.BinaryCrossentropy(),\n",
    "                                        x_train, y_train, x_test, y_test)"
   ]
  },
  {
   "cell_type": "code",
   "execution_count": 56,
   "id": "898938a2",
   "metadata": {},
   "outputs": [
    {
     "data": {
      "image/png": "[encoded data removed]",
      "text/plain": [
       "<Figure size 432x288 with 1 Axes>"
      ]
     },
     "metadata": {
      "needs_background": "light"
     },
     "output_type": "display_data"
    }
   ],
   "source": [
    "auc_plot(y_test, y_pred_test_proba)"
   ]
  },
  {
   "cell_type": "markdown",
   "id": "51a2fc7b",
   "metadata": {},
   "source": [
    "A smaller neural network seems to generalize better for our dataset, because the dataset is small."
   ]
  },
  {
   "cell_type": "code",
   "execution_count": 57,
   "id": "7cc9d865",
   "metadata": {},
   "outputs": [
    {
     "data": {
      "image/png": "[encoded data removed]",
      "text/plain": [
       "<Figure size 720x360 with 1 Axes>"
      ]
     },
     "metadata": {
      "needs_background": "light"
     },
     "output_type": "display_data"
    }
   ],
   "source": [
    "epochs = range(1, len(loss_1)+1)\n",
    "plt.figure(figsize=(10,5))\n",
    "plt.plot(epochs, loss_1, label = \"Validation loss model 1\")\n",
    "plt.plot(epochs, loss_2, label = \"Validation loss model 2\")\n",
    "plt.plot(epochs, loss_3, label = \"Validation loss model 3\")\n",
    "plt.plot(epochs, loss_4, label = \"Validation loss model 4\")\n",
    "plt.grid(axis='both', linestyle='--', color=\"#add8e6\")\n",
    "plt.xlabel('Epochs')\n",
    "plt.ylabel('Loss')\n",
    "plt.title('Validation loss functions of the four models')\n",
    "plt.legend(loc=\"best\")\n",
    "plt.show();"
   ]
  },
  {
   "cell_type": "markdown",
   "id": "e7a94ca7",
   "metadata": {},
   "source": [
    "## Hyper parameters tuning:\n",
    "- __References:__\n",
    ">- https://neptune.ai/blog/keras-tuner-tuning-hyperparameters-deep-learning-model/amp\n",
    ">- https://keras.io/guides/keras_tuner/getting_started/\n",
    ">- https://keras.io/api/utils/serialization_utils/\n",
    ">- https://www.tensorflow.org/tutorials/keras/keras_tuner\n",
    ">- https://scikit-learn.org/stable/auto_examples/feature_selection/plot_feature_selection.html#sphx-glr-auto-examples-feature-selection-plot-feature-selection-py"
   ]
  },
  {
   "cell_type": "markdown",
   "id": "c8f5e6de",
   "metadata": {},
   "source": [
    "### Class Weights\n",
    "Because the target variable distribution is imbalanced, we use class weight to penalize wrong prediction of the minority class more."
   ]
  },
  {
   "cell_type": "code",
   "execution_count": 58,
   "id": "1b5a8950",
   "metadata": {},
   "outputs": [
    {
     "data": {
      "text/plain": [
       "{0: 0.7789008212255212, 1: 1.3963759909399773}"
      ]
     },
     "execution_count": 58,
     "metadata": {},
     "output_type": "execute_result"
    }
   ],
   "source": [
    "ClassWeights = dict(enumerate(class_weight.compute_class_weight('balanced', \n",
    "                            classes=np.unique(y_train), y=y_train)))\n",
    "ClassWeights"
   ]
  },
  {
   "cell_type": "code",
   "execution_count": 59,
   "id": "111ce45c",
   "metadata": {},
   "outputs": [],
   "source": [
    "tune_objective = 'val_f1'\n",
    "EarlyStop = EarlyStopping(monitor=tune_objective, patience=5, verbose=0, restore_best_weights=True) \n",
    "#ReduceLR = ReduceLROnPlateau(monitor=tune_objective, mode='max', factor=0.2, patience=3, min_lr=1e-5)\n",
    "\n",
    "CallBacksList = [EarlyStop] # , ReduceLR  "
   ]
  },
  {
   "cell_type": "markdown",
   "id": "02418e34",
   "metadata": {},
   "source": [
    "### K-fold Validation\n",
    "The dataset is small, so we use k-fold validation to make sure hyper parameter tuning evaluates models using all training data."
   ]
  },
  {
   "cell_type": "code",
   "execution_count": 60,
   "id": "4d9892e0",
   "metadata": {},
   "outputs": [],
   "source": [
    "def kfold_split(x, y, k):\n",
    "    x = np.array(x)\n",
    "    y = np.array(y)\n",
    "    kfold = StratifiedKFold(n_splits=k, shuffle=True, random_state=SEED)\n",
    "    x_train, x_val, y_train, y_val = [], [], [], []\n",
    "    for train_index, val_index in kfold.split(x, y):\n",
    "        x_train.append(x[train_index])\n",
    "        x_val.append(x[val_index])\n",
    "        # Need to use y directly because y_train is Series\n",
    "        y_train.append(y[train_index])\n",
    "        y_val.append(y[val_index])\n",
    "    return x_train, x_val, y_train, y_val"
   ]
  },
  {
   "cell_type": "markdown",
   "id": "df91a14e",
   "metadata": {},
   "source": [
    "### Custom Model\n",
    "We implement our own model class that inherits keras' hyper model. It allows tuning of the following parameters:\n",
    "- Number of units in each layer\n",
    "- Activation function: choose between sigmoid, relu and tanh\n",
    "- Kernel initializer: How to set initial weight in each layer. We choose between Glorot normal initializer and Glorot uniform initializer. https://keras.io/api/layers/initializers/\n",
    "- Learning rate: for the Adam optimizer https://keras.io/api/optimizers/adam/\n",
    "- Loss type: binary classification or focal loss.\n",
    "https://towardsdatascience.com/focal-loss-a-better-alternative-for-cross-entropy-1d073d92d075 provides a good explanation of their difference. In essence focal loss function focuses on cases that are misclassfified, so it's useful when the classes are imbalanced. It takes a parameter gamma.\n",
    "- Dropout and dropout rate: What percent of the input should be set to 0. Use to regulate overfitting.\n",
    "- Oversampling: We use Synthetic Minority Oversampling Technique (SMOTE) to generate more data points for the minority class.\n",
    "- Undersampling: We use near miss strategy https://imbalanced-learn.org/stable/auto_examples/under-sampling/plot_comparison_under_sampling.html#prototype-selection-under-sampling-by-selecting-existing-samples to remove similar data points from the majority class\n",
    "\n",
    "- Introduction to Bayesian Optimization: https://h1ros.github.io/posts/introduction-to-bayesian-optimization/ "
   ]
  },
  {
   "cell_type": "code",
   "execution_count": 61,
   "id": "e17149fb",
   "metadata": {},
   "outputs": [],
   "source": [
    "class MyHyperModel(kt.HyperModel):\n",
    "    def __init__(self, metrics=None, k=3):\n",
    "        self.k = k\n",
    "        if metrics:\n",
    "            self.metrics = metrics\n",
    "        else:\n",
    "            self.metrics= [\n",
    "                \"accuracy\",\n",
    "                tf.keras.metrics.AUC(name=\"auc\"), \n",
    "                tf.keras.metrics.Precision(name=\"precision\"),\n",
    "                tf.keras.metrics.Recall(name=\"recall\"),\n",
    "                f1\n",
    "            ]\n",
    "\n",
    "    def build(self ,hp):\n",
    "        hp_units_1 = hp.Choice(\"Layer 1\", [32, 64]) # 128\n",
    "        hp_units_2 = hp.Choice(\"Layer 2\", [16, 32]) # 64\n",
    "        hp_activation_1 = hp.Choice(\"activation 1\", [\"softplus\", \"relu\", \"tanh\"]) # sigmoid\n",
    "        hp_activation_2 = hp.Choice(\"activation 2\", [\"softplus\", \"relu\", \"tanh\"]) # sigmoid\n",
    "        hp_kernel_initializer = hp.Choice(\"kernel_initializer\", [\"glorot_uniform\", \"glorot_normal\"])\n",
    "        hp_learning_rate = hp.Float(\"learning_rate\", 1e-5, 1e-3, sampling=\"log\", default=1e-5)  \n",
    "        hp_loss = hp.Choice(\"loss_type\", [\"BC\", \"FL\"])\n",
    "        hp_gamma = hp.Choice(\"Gamma\", [0.5, 2.0, 3.0])\n",
    "        #hp_dropout_1 = hp.Choice(\"dropout rate 1\", [0.1, 0.2, 0.5])\n",
    "        hp_dropout_2 = hp.Choice(\"dropout rate 2\", [0.1, 0.2, 0.5])\n",
    "        \n",
    "        model = Sequential()\n",
    "    \n",
    "        model.add(layers.Dense(units = hp_units_1,\n",
    "                        kernel_initializer = hp_kernel_initializer,\n",
    "                        activation = hp_activation_1,\n",
    "                        input_dim = x_train.shape[-1]   \n",
    "                           )) \n",
    "\n",
    "        #if hp.Boolean(\"Dropout 1\"):\n",
    "        #    model.add(layers.Dropout(rate=hp_dropout_1))\n",
    "        \n",
    "        model.add(layers.Dense(units = hp_units_2, \n",
    "                            kernel_initializer = hp_kernel_initializer,    \n",
    "                            activation = hp_activation_2))\n",
    "            \n",
    "        if hp.Boolean(\"Dropout 2\"):\n",
    "            model.add(layers.Dropout(rate=hp_dropout_2))\n",
    "            \n",
    "        model.add(layers.Dense(units=1, \n",
    "                            kernel_initializer = hp_kernel_initializer,\n",
    "                            activation=\"sigmoid\"))\n",
    "            \n",
    "        optimizer = tf.keras.optimizers.Adam(learning_rate = hp_learning_rate)\n",
    "        if hp_loss == \"BC\":\n",
    "            with hp.conditional_scope(\"loss_type\", [\"BC\"]):\n",
    "                model.compile(optimizer=optimizer,\n",
    "                    loss = tf.keras.losses.BinaryCrossentropy(),\n",
    "                    metrics= self.metrics)\n",
    "        if hp_loss == \"FL\":\n",
    "            with hp.conditional_scope(\"loss_type\", [\"FL\"]):\n",
    "                model.compile(optimizer=optimizer,\n",
    "                    loss = tf.keras.losses.BinaryFocalCrossentropy(gamma = hp_gamma), \n",
    "                    metrics= self.metrics)\n",
    "    \n",
    "        return model\n",
    "\n",
    "    \n",
    "    def fit(self, hp, model, x, y, **kwargs):\n",
    "        hp_batch_size = hp.Choice(\"batch_size\", [16, 32, 64]) # 128\n",
    "        hp_sample = hp.Choice(\"sample\", [\"over\", \"under\", \"none\"])\n",
    "        hp_oversample_rate = hp.Choice(\"oversample_rate\", [ 0.8]) # 0.2, 0.4,\n",
    "        hp_undersample_rate = hp.Choice(\"undersample_rate\", [ 0.8]) # 0.2, 0.4,\n",
    "        hp_near_miss_version = hp.Choice(\"near_miss_version\", [1, 2])\n",
    "        \n",
    "        measures = ['val_precision', 'val_recall', 'val_f1', 'val_auc']\n",
    "        results = pd.DataFrame(index=range(self.k), columns=measures)\n",
    "\n",
    "        x_train, x_val, y_train, y_val = kfold_split(x, y, self.k)\n",
    "        for i in range(self.k):\n",
    "            x_train_i, y_train_i = x_train[i], y_train[i]\n",
    "            # over/under sample after splitting validation data. Don't use synthetic data for validation.\n",
    "            if hp_sample == 'over':\n",
    "                x_train_i, y_train_i = oversample(hp_oversample_rate, x_train[i], y_train[i])\n",
    "            elif hp_sample == 'under':\n",
    "                x_train_i, y_train_i = undersample(hp_undersample_rate, x_train[i], y_train[i], hp_near_miss_version)\n",
    "            hist = None\n",
    "            ClassWeights = dict(enumerate(class_weight.compute_class_weight('balanced', \n",
    "                            classes=np.unique(y_train_i), y=y_train_i)))\n",
    "            try:\n",
    "                hist = model.fit(\n",
    "                    x_train_i, y_train_i,\n",
    "                    # Tune whether to shuffle the data in each epoch.\n",
    "                    shuffle=hp.Boolean(\"shuffle\"),\n",
    "                    validation_data=(x_val[i], y_val[i]),\n",
    "                    batch_size = hp_batch_size,\n",
    "                    class_weight = ClassWeights,\n",
    "                    **kwargs,\n",
    "                )\n",
    "                for m in measures:\n",
    "                    results.iloc[i][m] = hist.history[m][-1]\n",
    "\n",
    "            except:\n",
    "                results.iloc[i] = 0\n",
    "\n",
    "        avg_measures = {}\n",
    "        for m in measures:\n",
    "            avg_measures[m] = results[m].mean()\n",
    "        return avg_measures\n",
    "\n",
    "def tune(x_train, y_train, num_trials=10):\n",
    "    tuner = kt.BayesianOptimization(\n",
    "        hypermodel = MyHyperModel(),\n",
    "        objective = kt.Objective(tune_objective, direction=\"max\"), \n",
    "        seed = SEED,\n",
    "        max_trials = num_trials, # 50, # 30\n",
    "        overwrite=True,\n",
    "        directory = 'Deep_learning_project',\n",
    "        project_name = \"Default_predictions\"\n",
    "    )\n",
    "    tuner.search(x_train, y_train,\n",
    "        epochs = N_EPOCHS,\n",
    "        verbose = 2,\n",
    "        initial_epoch = 0,\n",
    "        callbacks = CallBacksList,\n",
    "        use_multiprocessing = True,\n",
    "    )\n",
    "    # Get the optimal hyperparameters and optimal f1-score.\n",
    "    best_hps=tuner.get_best_hyperparameters(num_trials=1)[0]\n",
    "\n",
    "    print(f\"\"\"\n",
    "    The hyperparameter search is complete. The optimal hyper parameters are:\n",
    "    The first layer: {best_hps.get(\"Layer 1\")}. \\n\n",
    "    The first layer activation function: {best_hps.get(\"activation 1\")}. \\n\n",
    "    The second layer: {best_hps.get(\"Layer 2\")}. \\n\n",
    "    The second layer activation function: {best_hps.get(\"activation 2\")}. \\n\n",
    "    Layer 2 Dropout: {best_hps.get(\"Dropout 2\")}. \\n\n",
    "    Layer 2 Dropout rate: {best_hps.get(\"dropout rate 2\")} \\n\n",
    "    The kernel initializer: {best_hps.get(\"kernel_initializer\")}. \\n\n",
    "    The loss function: {best_hps.get(\"loss_type\")}. \\n  \n",
    "    The learning rate: {best_hps.get(\"learning_rate\")}. \\n\n",
    "    The batch size: {best_hps.get(\"batch_size\")}. \\n\n",
    "    Sample: {best_hps.get(\"sample\")}. \\n\n",
    "    Oversample rate: {best_hps.get(\"oversample_rate\")}. \\n\n",
    "    Undersample rate: {best_hps.get(\"undersample_rate\")}. \\n\n",
    "    NearMiss version:  {best_hps.get(\"near_miss_version\")}. \\n\n",
    "    Shuffle: {best_hps.get(\"shuffle\")}. \\n\n",
    "    Gamma: {best_hps.get(\"Gamma\")}. \\n\n",
    "    \"\"\")\n",
    "    return tuner"
   ]
  },
  {
   "cell_type": "code",
   "execution_count": 62,
   "id": "eef726f9",
   "metadata": {},
   "outputs": [
    {
     "name": "stdout",
     "output_type": "stream",
     "text": [
      "Trial 10 Complete [00h 00m 14s]\n",
      "val_f1: 0.40267526110013324\n",
      "\n",
      "Best val_f1 So Far: 0.5850510994593302\n",
      "Total elapsed time: 00h 03m 47s\n",
      "INFO:tensorflow:Oracle triggered exit\n",
      "\n",
      "    The hyperparameter search is complete. The optimal hyper parameters are:\n",
      "    The first layer: 64. \n",
      "\n",
      "    The first layer activation function: tanh. \n",
      "\n",
      "    The second layer: 32. \n",
      "\n",
      "    The second layer activation function: tanh. \n",
      "\n",
      "    Layer 2 Dropout: True. \n",
      "\n",
      "    Layer 2 Dropout rate: 0.1 \n",
      "\n",
      "    The kernel initializer: glorot_uniform. \n",
      "\n",
      "    The loss function: FL. \n",
      "  \n",
      "    The learning rate: 1e-05. \n",
      "\n",
      "    The batch size: 16. \n",
      "\n",
      "    Sample: over. \n",
      "\n",
      "    Oversample rate: 0.8. \n",
      "\n",
      "    Undersample rate: 0.8. \n",
      "\n",
      "    NearMiss version:  1. \n",
      "\n",
      "    Shuffle: False. \n",
      "\n",
      "    Gamma: 0.5. \n",
      "\n",
      "    \n"
     ]
    }
   ],
   "source": [
    "tuner = tune(x_train, y_train)"
   ]
  },
  {
   "cell_type": "code",
   "execution_count": 63,
   "id": "a515e986",
   "metadata": {},
   "outputs": [
    {
     "name": "stdout",
     "output_type": "stream",
     "text": [
      "Model: \"sequential_1\"\n",
      "_________________________________________________________________\n",
      " Layer (type)                Output Shape              Param #   \n",
      "=================================================================\n",
      " dense_3 (Dense)             (None, 64)                2560      \n",
      "                                                                 \n",
      " dense_4 (Dense)             (None, 32)                2080      \n",
      "                                                                 \n",
      " dropout_1 (Dropout)         (None, 32)                0         \n",
      "                                                                 \n",
      " dense_5 (Dense)             (None, 1)                 33        \n",
      "                                                                 \n",
      "=================================================================\n",
      "Total params: 4,673\n",
      "Trainable params: 4,673\n",
      "Non-trainable params: 0\n",
      "_________________________________________________________________\n"
     ]
    }
   ],
   "source": [
    "# Get the optimal hyperparameters\n",
    "\n",
    "best_model = tuner.get_best_models(num_models=1)[0]\n",
    "\n",
    "best_hps=tuner.get_best_hyperparameters(num_trials=1)[0]\n",
    "best_model_params = MyHyperModel().build(best_hps)\n",
    "best_model_params.summary()"
   ]
  },
  {
   "cell_type": "code",
   "execution_count": 64,
   "id": "b82ffa44",
   "metadata": {},
   "outputs": [],
   "source": [
    "# best_model.predict(x_test)"
   ]
  },
  {
   "cell_type": "code",
   "execution_count": 65,
   "id": "1aa4eee5",
   "metadata": {},
   "outputs": [
    {
     "name": "stdout",
     "output_type": "stream",
     "text": [
      "['__class__', '__delattr__', '__dict__', '__dir__', '__doc__', '__eq__', '__format__', '__ge__', '__getattribute__', '__gt__', '__hash__', '__init__', '__init_subclass__', '__le__', '__lt__', '__module__', '__ne__', '__new__', '__reduce__', '__reduce_ex__', '__repr__', '__setattr__', '__sizeof__', '__str__', '__subclasshook__', '__weakref__', '_build_and_fit_model', '_build_hypermodel', '_configure_tensorboard_dir', '_deepcopy_callbacks', '_display', '_get_checkpoint_fname', '_get_tensorboard_dir', '_get_tuner_fname', '_override_compile_args', '_populate_initial_space', '_save_n_checkpoints', '_try_build', 'directory', 'distribution_strategy', 'executions_per_trial', 'get_best_hyperparameters', 'get_best_models', 'get_state', 'get_trial_dir', 'hypermodel', 'load_model', 'logger', 'loss', 'max_model_size', 'metrics', 'on_batch_begin', 'on_batch_end', 'on_epoch_begin', 'on_epoch_end', 'on_search_begin', 'on_search_end', 'on_trial_begin', 'on_trial_end', 'optimizer', 'oracle', 'project_dir', 'project_name', 'reload', 'remaining_trials', 'results_summary', 'run_trial', 'save', 'save_model', 'search', 'search_space_summary', 'set_state', 'tuner_id']\n"
     ]
    }
   ],
   "source": [
    "print(dir(tuner))"
   ]
  },
  {
   "cell_type": "code",
   "execution_count": 66,
   "id": "840f45dd",
   "metadata": {},
   "outputs": [
    {
     "name": "stdout",
     "output_type": "stream",
     "text": [
      "Trial 150 Complete [00h 00m 16s]\n",
      "val_f1: 0.62175319592158\n",
      "\n",
      "Best val_f1 So Far: 0.6327521006266276\n",
      "Total elapsed time: 02h 18m 21s\n",
      "INFO:tensorflow:Oracle triggered exit\n",
      "\n",
      "    The hyperparameter search is complete. The optimal hyper parameters are:\n",
      "    The first layer: 64. \n",
      "\n",
      "    The first layer activation function: relu. \n",
      "\n",
      "    The second layer: 32. \n",
      "\n",
      "    The second layer activation function: softplus. \n",
      "\n",
      "    Layer 2 Dropout: True. \n",
      "\n",
      "    Layer 2 Dropout rate: 0.5 \n",
      "\n",
      "    The kernel initializer: glorot_uniform. \n",
      "\n",
      "    The loss function: BC. \n",
      "  \n",
      "    The learning rate: 0.001. \n",
      "\n",
      "    The batch size: 16. \n",
      "\n",
      "    Sample: over. \n",
      "\n",
      "    Oversample rate: 0.8. \n",
      "\n",
      "    Undersample rate: 0.8. \n",
      "\n",
      "    NearMiss version:  1. \n",
      "\n",
      "    Shuffle: False. \n",
      "\n",
      "    Gamma: 3.0. \n",
      "\n",
      "    \n"
     ]
    }
   ],
   "source": [
    "# n_iters_range = range(10, 151, 20)\n",
    "# dl_f1, dl_time = [], []\n",
    "# for k in n_iters_range:\n",
    "#     start_time = time.time()\n",
    "#     tuner = tune(x_train, y_train, num_trials=k)\n",
    "#     end_time = time.time()\n",
    "#     dl_time.append(end_time - start_time)\n",
    "#     best_model = tuner.get_best_models(1)[0]\n",
    "\n",
    "#     y_pred_proba = best_model.predict(x_test)\n",
    "#     y_pred = (y_pred_proba>0.5).astype(int)\n",
    "#     f1_sc = metrics.f1_score(y_test, y_pred, average='macro')\n",
    "#     dl_f1.append(f1_sc)"
   ]
  },
  {
   "cell_type": "code",
   "execution_count": 1,
   "id": "70216dee",
   "metadata": {},
   "outputs": [],
   "source": [
    "# dl_f1"
   ]
  },
  {
   "cell_type": "code",
   "execution_count": 2,
   "id": "bbb4dd06",
   "metadata": {},
   "outputs": [],
   "source": [
    "# dl_time"
   ]
  },
  {
   "cell_type": "code",
   "execution_count": 3,
   "id": "31537400",
   "metadata": {},
   "outputs": [],
   "source": [
    "# # dl_f1\n",
    "# plt.plot(n_iters_range, dl_time)"
   ]
  },
  {
   "cell_type": "markdown",
   "id": "1241eb16",
   "metadata": {},
   "source": [
    "### Visualize Best Model K-fold Result"
   ]
  },
  {
   "cell_type": "code",
   "execution_count": null,
   "id": "29936cd4",
   "metadata": {},
   "outputs": [],
   "source": [
    "def get_mean_metrics(model, x, y, k=5, n_epochs=20):\n",
    "    mean_values = {\"loss\":[0]*n_epochs, \"accuracy\":[0]*n_epochs, \"precision\":[0]*n_epochs, \"recall\":[0]*n_epochs,\n",
    "                   \"f1\":[0]*n_epochs, \"auc\":[0]*n_epochs}\n",
    "    mean_values_val = {\"loss\":[0]*n_epochs, \"accuracy\":[0]*n_epochs, \"precision\":[0]*n_epochs, \"recall\":[0]*n_epochs,\n",
    "                       \"f1\":[0]*n_epochs, \"auc\":[0]*n_epochs}\n",
    "    metrics = ['loss', 'accuracy', 'precision', 'recall', 'f1', 'auc']\n",
    "\n",
    "\n",
    "    x_train, x_val, y_train, y_val = kfold_split(x, y, k)\n",
    "\n",
    "    for i in range(k):\n",
    "        hist = model.fit(x_train[i],\n",
    "            y_train[i],\n",
    "            verbose=0,             \n",
    "            epochs = n_epochs,\n",
    "            # Tune whether to shuffle the data in each epoch.\n",
    "            shuffle= best_hps.get(\"shuffle\"),\n",
    "            validation_data = (x_val[i], y_val[i]),\n",
    "            batch_size = best_hps.get(\"batch_size\"),\n",
    "            class_weight = ClassWeights,\n",
    "        )\n",
    "        for m in metrics:\n",
    "            \n",
    "            mean_values[m] = list(map(add, mean_values[m], hist.history[f\"{m}\"]))\n",
    "            mean_values_val[m] = list(map(add, mean_values_val[m], hist.history[f\"val_{m}\"]))\n",
    "    \n",
    "\n",
    "    for m in metrics:\n",
    "        mean_values[m] = np.array(mean_values[m])/k\n",
    "        mean_values_val[m] = np.array(mean_values_val[m])/k\n",
    "    return mean_values, mean_values_val\n",
    "\n",
    "# This function plot the \"metrics\" and the \"val_metrics\" values.\n",
    "def visualize_mean_metrics(mean_values, mean_values_val, metrics):\n",
    "    \"\"\"\n",
    "    history: history of the model.\n",
    "    metrics: the metrics in history to plot.\n",
    "    title: Title of the plot.\n",
    "    \"\"\"\n",
    "    fig, ax = plt.subplots(len(metrics), 1, figsize= (11.69,14))\n",
    "    \n",
    "    for idx, m in enumerate(metrics):\n",
    "    \n",
    "        loss = mean_values[m]\n",
    "        val_loss = mean_values_val[m]\n",
    "        epochs = range(1, len(loss)+1)\n",
    "        ax[idx].plot(epochs, loss, \"g\", label=f\"Training {m}\")\n",
    "        ax[idx].plot(epochs, val_loss, \"b\", label=f\"Validation {m}\")\n",
    "        ax[idx].grid(axis='both', linestyle='--', color=\"#add8e6\")\n",
    "        ax[idx].legend(loc=\"best\")\n",
    "    plt.xlabel(\"Epochs\")\n",
    "    fig.tight_layout()\n",
    "    fig.show();"
   ]
  },
  {
   "cell_type": "code",
   "execution_count": null,
   "id": "12b4a75a",
   "metadata": {},
   "outputs": [],
   "source": [
    "mean_values, mean_values_val = get_mean_metrics(best_model_params, x_train, y_train)\n",
    "visualize_mean_metrics(mean_values, mean_values_val, ['loss', 'accuracy', 'precision', 'recall', 'f1', 'auc'])"
   ]
  },
  {
   "cell_type": "markdown",
   "id": "74cae744",
   "metadata": {},
   "source": [
    "## Fit Model with All Training Data"
   ]
  },
  {
   "cell_type": "code",
   "execution_count": null,
   "id": "3fb0f2b4",
   "metadata": {},
   "outputs": [],
   "source": [
    "def fit_with_sample(x, y, best_hps, n_epochs=200):\n",
    "    if best_hps.get(\"sample\") == \"over\":\n",
    "        x, y = oversample(best_hps.get(\"oversample_rate\"), x, y)\n",
    "    elif best_hps.get(\"sample\") == \"under\":\n",
    "        x, y = undersample(best_hps.get(\"undersample_rate\"), x, y, best_hps.get(\"near_miss_version\"))\n",
    "    ClassWeights = dict(enumerate(class_weight.compute_class_weight('balanced', \n",
    "                            classes=np.unique(y), y=y)))\n",
    "    best_model_params.fit(x, y,\n",
    "        epochs = n_epochs,\n",
    "        # Tune whether to shuffle the data in each epoch.\n",
    "        shuffle = True,\n",
    "        batch_size = best_hps.get(\"batch_size\"),\n",
    "        class_weight = ClassWeights,\n",
    "        callbacks=[\n",
    "            EarlyStopping(monitor='f1', patience=5, verbose=0, restore_best_weights=True),\n",
    "            #ReduceLROnPlateau(monitor='f1', mode='max', factor=0.2, patience=3, min_lr=1e-5),\n",
    "        ],\n",
    "        verbose=0\n",
    "    )"
   ]
  },
  {
   "cell_type": "code",
   "execution_count": null,
   "id": "579eea47",
   "metadata": {},
   "outputs": [],
   "source": [
    "fit_with_sample(x_train, y_train, best_hps)"
   ]
  },
  {
   "cell_type": "code",
   "execution_count": null,
   "id": "d31a4742",
   "metadata": {},
   "outputs": [],
   "source": [
    "y_pred_train_proba = best_model_params.predict(x_train)\n",
    "y_pred_test_proba = best_model_params.predict(x_test)"
   ]
  },
  {
   "cell_type": "code",
   "execution_count": null,
   "id": "28633294",
   "metadata": {},
   "outputs": [],
   "source": [
    "y_pred_train = (y_pred_train_proba>0.5).astype(int)\n",
    "y_pred_test = (y_pred_test_proba>0.5).astype(int)"
   ]
  },
  {
   "cell_type": "code",
   "execution_count": null,
   "id": "2fd5bc71",
   "metadata": {},
   "outputs": [],
   "source": [
    "# Showing the confusion matrix\n",
    "\n",
    "cm = metrics.confusion_matrix(y_test, y_pred_test)\n",
    "labels = ['True Neg','False Pos','False Neg','True Pos']\n",
    "categories = ['0', '1']\n",
    "make_confusion_matrix(cm, group_names=labels, categories=categories, cmap='Blues')"
   ]
  },
  {
   "cell_type": "code",
   "execution_count": null,
   "id": "40233f15",
   "metadata": {},
   "outputs": [],
   "source": [
    "# Showing the classification report:\n",
    "\n",
    "TargetNames=[\"No Default\", \"Default\"]\n",
    "print(classification_report(y_test, y_pred_test, target_names = TargetNames))"
   ]
  },
  {
   "cell_type": "code",
   "execution_count": null,
   "id": "1d0d74e0",
   "metadata": {},
   "outputs": [],
   "source": [
    "# Showing the results performance.\n",
    "\n",
    "resultsDF = performanceMetricsDF(metrics, y_train, y_pred_train, y_test, y_pred_test)\n",
    "display(resultsDF)"
   ]
  },
  {
   "cell_type": "code",
   "execution_count": null,
   "id": "955d260e",
   "metadata": {},
   "outputs": [],
   "source": [
    "auc_plot(y_test, y_pred_test_proba)"
   ]
  },
  {
   "cell_type": "markdown",
   "id": "4ffd62cc",
   "metadata": {},
   "source": [
    "***"
   ]
  },
  {
   "cell_type": "markdown",
   "id": "8597df12",
   "metadata": {},
   "source": [
    "## Interpreting the Model:\n",
    "- https://shap.readthedocs.io/en/latest/example_notebooks/tabular_examples/neural_networks/Census%20income%20classification%20with%20Keras.html"
   ]
  },
  {
   "cell_type": "code",
   "execution_count": null,
   "id": "f91997d2",
   "metadata": {},
   "outputs": [],
   "source": [
    "def shap_samples(x, y, samples):\n",
    "    default = x[y == 1]\n",
    "    no_default = x[y == 0]\n",
    "    return np.append(shap.sample(no_default, samples, random_state=SEED), shap.sample(default, samples, random_state=SEED), axis = 0)"
   ]
  },
  {
   "cell_type": "code",
   "execution_count": null,
   "id": "4e42f5a2",
   "metadata": {},
   "outputs": [],
   "source": [
    "\n",
    "explainer = shap.KernelExplainer(best_model_params.predict, shap_samples(x_train, y_train, 100))\n",
    "y_test_default = y_test.loc[y_test == 1]\n",
    "x_test_default = x_test[y_test_default]\n",
    "y_test_no_default = y_test.loc[y_test == 0]\n",
    "x_test_no_default = x_test[y_test_no_default]\n",
    "# Sample 100 from non default case and all of default cases\n",
    "shap_datapoints = np.append(shap_samples(x_test, y_test, 100), x_test_default, axis = 0)\n",
    "shap_values = explainer.shap_values(shap_datapoints, nsamples=50)"
   ]
  },
  {
   "cell_type": "code",
   "execution_count": null,
   "id": "ad229a3c",
   "metadata": {},
   "outputs": [],
   "source": [
    "# shap.summary_plot(shap_values, feature_names=kept_columns, class_names=['non default', 'default'])"
   ]
  },
  {
   "cell_type": "markdown",
   "id": "19524fa2",
   "metadata": {},
   "source": [
    "***"
   ]
  },
  {
   "cell_type": "markdown",
   "id": "7be7f27f",
   "metadata": {},
   "source": [
    "## Comparing BC and FL loss functions:"
   ]
  },
  {
   "cell_type": "code",
   "execution_count": null,
   "id": "ef984d5b",
   "metadata": {},
   "outputs": [],
   "source": [
    "model_BC = Sequential()\n",
    "    \n",
    "model_BC.add(layers.Dense(units = best_hps.get(\"Layer 1\"), kernel_initializer =\n",
    "                          best_hps.get(\"kernel_initializer\"), activation = best_hps.get(\"activation 1\"),\n",
    "                        input_dim = x_train.shape[-1])) \n",
    "\n",
    "#if best_hps.get(\"Dropout 1\"):\n",
    "#    model_BC.add(layers.Dropout(rate=best_hps.get(\"dropout rate 1\")))\n",
    "\n",
    "model_BC.add(layers.Dense(units = best_hps.get(\"Layer 2\"), kernel_initializer = \n",
    "                          best_hps.get(\"kernel_initializer\"), activation = best_hps.get(\"activation 2\")))\n",
    "            \n",
    "if best_hps.get(\"Dropout 2\"):\n",
    "    model_BC.add(layers.Dropout(rate=best_hps.get(\"dropout rate 2\")))\n",
    "            \n",
    "model_BC.add(layers.Dense(units=1, kernel_initializer = best_hps.get(\"kernel_initializer\"), activation=\"sigmoid\"))\n",
    "            \n",
    "optimizer = tf.keras.optimizers.Adam(learning_rate = best_hps.get(\"learning_rate\"))\n",
    "\n",
    "model_BC.compile(optimizer=optimizer, loss = tf.keras.losses.BinaryCrossentropy()) "
   ]
  },
  {
   "cell_type": "code",
   "execution_count": null,
   "id": "eebf252e",
   "metadata": {},
   "outputs": [],
   "source": [
    "model_FL = Sequential()\n",
    "    \n",
    "model_FL.add(layers.Dense(units = best_hps.get(\"Layer 1\"), kernel_initializer =\n",
    "                          best_hps.get(\"kernel_initializer\"), activation = best_hps.get(\"activation 1\"),\n",
    "                        input_dim = x_train.shape[-1])) \n",
    "\n",
    "#if best_hps.get(\"Dropout 1\"):\n",
    "#    model_FL.add(layers.Dropout(rate=best_hps.get(\"dropout rate 1\")))\n",
    "\n",
    "model_FL.add(layers.Dense(units = best_hps.get(\"Layer 2\"), kernel_initializer = \n",
    "                          best_hps.get(\"kernel_initializer\"), activation = best_hps.get(\"activation 2\")))\n",
    "            \n",
    "if best_hps.get(\"Dropout 2\"):\n",
    "    model_FL.add(layers.Dropout(rate=best_hps.get(\"dropout rate 2\")))\n",
    "            \n",
    "model_FL.add(layers.Dense(units=1, kernel_initializer = best_hps.get(\"kernel_initializer\"), activation=\"sigmoid\"))\n",
    "            \n",
    "optimizer = tf.keras.optimizers.Adam(learning_rate = best_hps.get(\"learning_rate\"))\n",
    "\n",
    "model_FL.compile(optimizer=optimizer, loss = tf.keras.losses.BinaryFocalCrossentropy(gamma = best_hps.get(\"Gamma\")))"
   ]
  },
  {
   "cell_type": "code",
   "execution_count": null,
   "id": "f34e9aa4",
   "metadata": {},
   "outputs": [],
   "source": [
    "if best_hps.get(\"sample\") == 'over':\n",
    "    x_train, y_train = oversample(best_hps.get(\"oversample_rate\"), x_train, y_train)\n",
    "elif best_hps.get(\"sample\") == 'under':\n",
    "    x_train, y_train = undersample(best_hps.get(\"undersample_rate\"), x_train, y_train, best_hps.get(\"near_miss_version\"))"
   ]
  },
  {
   "cell_type": "code",
   "execution_count": null,
   "id": "b7708775",
   "metadata": {},
   "outputs": [],
   "source": [
    "hist_BC = model_BC.fit(x_train, y_train,\n",
    "        epochs = 20,\n",
    "        shuffle = best_hps.get(\"shuffle\"),\n",
    "        batch_size = best_hps.get(\"batch_size\"),\n",
    "        class_weight = ClassWeights,\n",
    "        verbose=0\n",
    "    )"
   ]
  },
  {
   "cell_type": "code",
   "execution_count": null,
   "id": "7eef26ad",
   "metadata": {},
   "outputs": [],
   "source": [
    "hist_FL = model_FL.fit(x_train, y_train,\n",
    "        epochs = 20,\n",
    "        shuffle = best_hps.get(\"shuffle\"),\n",
    "        batch_size = best_hps.get(\"batch_size\"),\n",
    "        class_weight = ClassWeights,\n",
    "        verbose=0\n",
    "    )"
   ]
  },
  {
   "cell_type": "code",
   "execution_count": null,
   "id": "a3cae1b9",
   "metadata": {},
   "outputs": [],
   "source": [
    "loss_BC = hist_BC.history[\"loss\"]\n",
    "loss_FL = hist_FL.history[\"loss\"]\n",
    "epochs = range(1, len(loss_BC)+1)\n",
    "plt.figure(figsize=(10,5))\n",
    "plt.plot(epochs, loss_BC, color=\"b\", label = \"Binary Cross Entropy loss\")\n",
    "plt.plot(epochs, loss_FL, color=\"g\", label = \"Focal loss\")\n",
    "plt.grid(axis='both', linestyle='--', color=\"#add8e6\")\n",
    "plt.xlabel('Epochs')\n",
    "plt.ylabel('Loss')\n",
    "plt.title('Binary Cross Entropy loss vs Focal loss')\n",
    "plt.legend(loc=\"best\")\n",
    "plt.show();"
   ]
  },
  {
   "cell_type": "markdown",
   "id": "7e97ec0f",
   "metadata": {},
   "source": [
    "***"
   ]
  },
  {
   "cell_type": "code",
   "execution_count": null,
   "id": "3ff69c83",
   "metadata": {
    "scrolled": true
   },
   "outputs": [],
   "source": [
    "t2 = time.perf_counter()\n",
    "print('Time taken to run in minutes:',(t2-t1)/60.0)"
   ]
  }
 ],
 "metadata": {
  "celltoolbar": "Format de la Cellule Texte Brut",
  "kernelspec": {
   "display_name": "Python 3.9.7 ('base')",
   "language": "python",
   "name": "python3"
  },
  "language_info": {
   "codemirror_mode": {
    "name": "ipython",
    "version": 3
   },
   "file_extension": ".py",
   "mimetype": "text/x-python",
   "name": "python",
   "nbconvert_exporter": "python",
   "pygments_lexer": "ipython3",
   "version": "3.9.7"
  },
  "vscode": {
   "interpreter": {
    "hash": "c1124073dee199d8e1894afd18905e6ab65c2b78c2f71f2204c8c819619ccb15"
   }
  }
 },
 "nbformat": 4,
 "nbformat_minor": 5
}
